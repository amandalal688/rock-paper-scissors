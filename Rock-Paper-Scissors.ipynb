{
 "cells": [
  {
   "cell_type": "code",
   "execution_count": 24,
   "id": "ca6e0ee3",
   "metadata": {},
   "outputs": [],
   "source": [
    "import random"
   ]
  },
  {
   "cell_type": "code",
   "execution_count": 25,
   "id": "9029f325",
   "metadata": {},
   "outputs": [],
   "source": [
    "# creating fuction that pompts the user to choose rock,paper,scissors and return their choice.\n",
    "def get_user_choice():\n",
    "    user_choice = input(\"Choose Rock, Paper, Scissors: \").lower()\n",
    "    while user_choice not in ['rock','paper','scissors']:\n",
    "        print(\"Invalid Choice! Please choose rock, paper, scissors\")\n",
    "        user_choice = input(\"Choose Rock, Paper, Scissors: \").lower()\n",
    "    return user_choice"
   ]
  },
  {
   "cell_type": "code",
   "execution_count": 26,
   "id": "2e4afeb9",
   "metadata": {},
   "outputs": [],
   "source": [
    "# Creating a function to get User's Choice\n",
    "def get_computer_choice():\n",
    "    choices = ['rock','paper','scissors']\n",
    "    return random.choice(choices)"
   ]
  },
  {
   "cell_type": "code",
   "execution_count": 30,
   "id": "b3e781e4",
   "metadata": {},
   "outputs": [],
   "source": [
    "# Creating the function to determine the winner\n",
    "def determine_winner(user_choice, computer_choice):\n",
    "    if user_choice == computer_choice:\n",
    "        return \"It's a Tie!\"\n",
    "    elif (\n",
    "        (user_choice == 'rock' and computer_choice == 'scissors') or\n",
    "        (user_choice == 'scissors' and computer_choice == 'paper') or\n",
    "        (user_choice == 'paper' and computer_choice == 'rock')\n",
    "    ):\n",
    "        return \"You Win!!\"\n",
    "    else:\n",
    "        return \"Computer Win!!\""
   ]
  },
  {
   "cell_type": "code",
   "execution_count": 31,
   "id": "650be2e3",
   "metadata": {},
   "outputs": [],
   "source": [
    "# Creating a function to display the result\n",
    "def display_result(user_choice, computer_choice, result):\n",
    "    print(f\"You Choose {user_choice}: \")\n",
    "    print(f\"Computer Choose {computer_choice}: \")\n",
    "    print(result)\n",
    "    \n",
    "user_score = 0\n",
    "computer_score = 0"
   ]
  },
  {
   "cell_type": "code",
   "execution_count": 33,
   "id": "d04cf0da",
   "metadata": {},
   "outputs": [
    {
     "name": "stdout",
     "output_type": "stream",
     "text": [
      "Choose Rock, Paper, Scissors: paper\n",
      "You Choose paper: \n",
      "Computer Choose scissors: \n",
      "Computer Win!!\n",
      "Your Score: 4 , Computer Score: 10\n",
      "Do you want to play again?  (yes/no): yeee\n",
      "Please Enter a Valid Input!!\n",
      "Choose Rock, Paper, Scissors: scissors\n",
      "You Choose scissors: \n",
      "Computer Choose scissors: \n",
      "It's a Tie!\n",
      "Your Score: 4 , Computer Score: 10\n",
      "Do you want to play again?  (yes/no): no\n"
     ]
    }
   ],
   "source": [
    "# Creating Main Game Loop\n",
    "while True:\n",
    "    user_choice = get_user_choice()\n",
    "    computer_choice = get_computer_choice()\n",
    "    result = determine_winner(user_choice,computer_choice)\n",
    "    display_result(user_choice,computer_choice,result)\n",
    "    \n",
    "    # Keeping Track of the scores\n",
    "    if result == \"You Win!!\":\n",
    "        user_score +=1\n",
    "    elif result == \"Computer Win!!\":\n",
    "        computer_score +=1\n",
    "        \n",
    "    # Display scores\n",
    "    print(f\"Your Score: {user_score} , Computer Score: {computer_score}\")\n",
    "    \n",
    "    play_again = input(\"Do you want to play again?  (yes/no): \").lower()\n",
    "    if play_again != 'no' and play_again != 'yes':\n",
    "        print(\"Please Enter a Valid Input!!\")\n",
    "    elif play_again != 'yes':\n",
    "        break\n",
    "    #if play_again != \"yes\":\n",
    "    #    break\n",
    "    "
   ]
  },
  {
   "cell_type": "raw",
   "id": "37074414",
   "metadata": {},
   "source": []
  },
  {
   "cell_type": "code",
   "execution_count": null,
   "id": "5133d548",
   "metadata": {},
   "outputs": [],
   "source": []
  }
 ],
 "metadata": {
  "kernelspec": {
   "display_name": "Python 3 (ipykernel)",
   "language": "python",
   "name": "python3"
  },
  "language_info": {
   "codemirror_mode": {
    "name": "ipython",
    "version": 3
   },
   "file_extension": ".py",
   "mimetype": "text/x-python",
   "name": "python",
   "nbconvert_exporter": "python",
   "pygments_lexer": "ipython3",
   "version": "3.10.9"
  }
 },
 "nbformat": 4,
 "nbformat_minor": 5
}
